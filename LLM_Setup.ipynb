{
  "nbformat": 4,
  "nbformat_minor": 0,
  "metadata": {
    "colab": {
      "provenance": [],
      "gpuType": "T4",
      "authorship_tag": "ABX9TyPahA9pxPcdnDmGsnFHFf89",
      "include_colab_link": true
    },
    "kernelspec": {
      "name": "python3",
      "display_name": "Python 3"
    },
    "language_info": {
      "name": "python"
    },
    "accelerator": "GPU"
  },
  "cells": [
    {
      "cell_type": "markdown",
      "metadata": {
        "id": "view-in-github",
        "colab_type": "text"
      },
      "source": [
        "<a href=\"https://colab.research.google.com/github/shivamVR46/LLM/blob/master/LLM_Setup.ipynb\" target=\"_parent\"><img src=\"https://colab.research.google.com/assets/colab-badge.svg\" alt=\"Open In Colab\"/></a>"
      ]
    },
    {
      "cell_type": "code",
      "source": [
        "pip install ipdb"
      ],
      "metadata": {
        "colab": {
          "base_uri": "https://localhost:8080/"
        },
        "id": "XL3Van0t4Qu8",
        "outputId": "cb7ec406-90b0-4c2a-f4d6-e846f75760e9"
      },
      "execution_count": null,
      "outputs": [
        {
          "output_type": "stream",
          "name": "stdout",
          "text": [
            "Collecting ipdb\n",
            "  Downloading ipdb-0.13.13-py3-none-any.whl.metadata (14 kB)\n",
            "Requirement already satisfied: ipython>=7.31.1 in /usr/local/lib/python3.10/dist-packages (from ipdb) (7.34.0)\n",
            "Requirement already satisfied: tomli in /usr/local/lib/python3.10/dist-packages (from ipdb) (2.0.1)\n",
            "Requirement already satisfied: decorator in /usr/local/lib/python3.10/dist-packages (from ipdb) (4.4.2)\n",
            "Requirement already satisfied: setuptools>=18.5 in /usr/local/lib/python3.10/dist-packages (from ipython>=7.31.1->ipdb) (71.0.4)\n",
            "Collecting jedi>=0.16 (from ipython>=7.31.1->ipdb)\n",
            "  Using cached jedi-0.19.1-py2.py3-none-any.whl.metadata (22 kB)\n",
            "Requirement already satisfied: pickleshare in /usr/local/lib/python3.10/dist-packages (from ipython>=7.31.1->ipdb) (0.7.5)\n",
            "Requirement already satisfied: traitlets>=4.2 in /usr/local/lib/python3.10/dist-packages (from ipython>=7.31.1->ipdb) (5.7.1)\n",
            "Requirement already satisfied: prompt-toolkit!=3.0.0,!=3.0.1,<3.1.0,>=2.0.0 in /usr/local/lib/python3.10/dist-packages (from ipython>=7.31.1->ipdb) (3.0.47)\n",
            "Requirement already satisfied: pygments in /usr/local/lib/python3.10/dist-packages (from ipython>=7.31.1->ipdb) (2.16.1)\n",
            "Requirement already satisfied: backcall in /usr/local/lib/python3.10/dist-packages (from ipython>=7.31.1->ipdb) (0.2.0)\n",
            "Requirement already satisfied: matplotlib-inline in /usr/local/lib/python3.10/dist-packages (from ipython>=7.31.1->ipdb) (0.1.7)\n",
            "Requirement already satisfied: pexpect>4.3 in /usr/local/lib/python3.10/dist-packages (from ipython>=7.31.1->ipdb) (4.9.0)\n",
            "Requirement already satisfied: parso<0.9.0,>=0.8.3 in /usr/local/lib/python3.10/dist-packages (from jedi>=0.16->ipython>=7.31.1->ipdb) (0.8.4)\n",
            "Requirement already satisfied: ptyprocess>=0.5 in /usr/local/lib/python3.10/dist-packages (from pexpect>4.3->ipython>=7.31.1->ipdb) (0.7.0)\n",
            "Requirement already satisfied: wcwidth in /usr/local/lib/python3.10/dist-packages (from prompt-toolkit!=3.0.0,!=3.0.1,<3.1.0,>=2.0.0->ipython>=7.31.1->ipdb) (0.2.13)\n",
            "Downloading ipdb-0.13.13-py3-none-any.whl (12 kB)\n",
            "Using cached jedi-0.19.1-py2.py3-none-any.whl (1.6 MB)\n",
            "Installing collected packages: jedi, ipdb\n",
            "Successfully installed ipdb-0.13.13 jedi-0.19.1\n"
          ]
        }
      ]
    },
    {
      "cell_type": "code",
      "source": [
        "import os, sys\n",
        "import ipdb # for debugging\n",
        "from tqdm import tqdm\n",
        "from datetime import datetime\n",
        "import platform, shutil\n",
        "import requests, zipfile, io\n",
        "\n",
        "#Pytorch\n",
        "import torch\n",
        "import torch.nn as nn\n",
        "from torch.nn import functional as F\n",
        "\n",
        "#tokenizer\n",
        "import sentencepiece as spm\n",
        "\n",
        "# For better performance\n",
        "torch.backends.cuda.matmul.allow_tf32 = True\n",
        "torch.backends.cuda.allow_tf32 = True\n",
        "\n",
        "#Empty GPU memory\n",
        "torch.cuda.empty_cache()"
      ],
      "metadata": {
        "id": "MMetpGl1zJ2w"
      },
      "execution_count": null,
      "outputs": []
    },
    {
      "cell_type": "code",
      "execution_count": null,
      "metadata": {
        "id": "QP3p5NA_yq7_"
      },
      "outputs": [],
      "source": [
        "# ARCHITECTURE PARAMETERS\n",
        "batch_size = 16  # batch size is nothing but data to be divided into batches so that LLM can learn to guess the next sequence of tokens\n",
        "                 # required GPU as it can process these batches parallely; size 8 to 128 is enough for 4GB GPU\n",
        "context = 512    # window (range) that the LLM is going to pay attention to as each input is a token transoformed to numbers and tokenizer will\n",
        "                 # have all the possibibilities of token. Paying attention to larger window is good as LLM cab build relationship between tokens but that requires more memory.\n",
        "embed_size = 384 # tokens are transformed to numbers and just by using number LLM cannot know what does it means so tokens are tranformed to embedding,\n",
        "                 # which would be a vector of 384 numbers here where each number is a feature to describe the token.\n",
        "n_layers = 7     #transformer architecture is of number of layers; each layer has 2 things : attention mechanism (communication) and feed forward layer (computation)\n",
        "n_head = 7       # In each attention mechanism, there are number of heads so 384 features of each token splitted into 7 heads and then bring them together then to feed forward layer.\n",
        "BIAS = True\n",
        "\n",
        "# HYPERPARAMETERS\n",
        "\n",
        "lr = 3e-4 # learning rate\n",
        "dropout = 0.05 # prevents overfitting, drop 5% of neurons so that network doesnt memorize everything as it needs to learn to generalize\n",
        "weight_decay = 0.01 # limit the scale of the parameters of the network, so that it doesnt adapt too tightly to the training dataset\n",
        "grad_clip = 1.0 #\n"
      ]
    },
    {
      "cell_type": "code",
      "source": [],
      "metadata": {
        "id": "7aP5ofX_4XVO"
      },
      "execution_count": null,
      "outputs": []
    }
  ]
}